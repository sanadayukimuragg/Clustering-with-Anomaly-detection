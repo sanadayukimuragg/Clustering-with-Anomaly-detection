{
 "cells": [
  {
   "cell_type": "code",
   "execution_count": 1,
   "metadata": {},
   "outputs": [],
   "source": [
    "import pandas as pd\n",
    "import numpy as np\n",
    "import matplotlib.pyplot as plt\n",
    "from sklearn.cluster import KMeans\n",
    "from sklearn.ensemble import IsolationForest\n",
    "from sklearn.preprocessing import StandardScaler\n",
    "\n",
    "# Load the dataset\n",
    "data = pd.read_csv('used_cars.csv')\n",
    "\n",
    "# Select relevant features for clustering\n",
    "features = ['Year', 'Mileage', 'Price']\n",
    "\n",
    "# Preprocess the data\n",
    "X = data[features]\n",
    "X = X.dropna()  # Drop rows with missing values\n",
    "\n",
    "# Scale the numerical features\n",
    "scaler = StandardScaler()\n",
    "X_scaled = scaler.fit_transform(X)"
   ]
  },
  {
   "cell_type": "code",
   "execution_count": null,
   "metadata": {},
   "outputs": [],
   "source": [
    "# Perform clustering using K-means\n",
    "k = 3  # Number of clusters\n",
    "kmeans = KMeans(n_clusters=k, random_state=42)\n",
    "kmeans.fit(X_scaled)\n",
    "\n",
    "# Obtain the cluster labels\n",
    "cluster_labels = kmeans.labels_"
   ]
  },
  {
   "cell_type": "code",
   "execution_count": null,
   "metadata": {},
   "outputs": [],
   "source": [
    "# Visualize the clustering results\n",
    "plt.scatter(X_scaled[:, 0], X_scaled[:, 1], c=cluster_labels, cmap='viridis')\n",
    "plt.xlabel('Year')\n",
    "plt.ylabel('Mileage')\n",
    "plt.title('Clustering Results')\n",
    "plt.show()"
   ]
  },
  {
   "cell_type": "code",
   "execution_count": null,
   "metadata": {},
   "outputs": [],
   "source": [
    "# Perform anomaly detection using Isolation Forest\n",
    "forest = IsolationForest(random_state=42)\n",
    "forest.fit(X_scaled)\n",
    "\n",
    "# Predict anomalies\n",
    "anomaly_scores = forest.decision_function(X_scaled)\n",
    "anomaly_labels = forest.predict(X_scaled)"
   ]
  },
  {
   "cell_type": "code",
   "execution_count": null,
   "metadata": {},
   "outputs": [],
   "source": [
    "# Visualize the anomaly detection results\n",
    "plt.scatter(X_scaled[:, 0], X_scaled[:, 1], c=-anomaly_labels, cmap='coolwarm')\n",
    "plt.xlabel('Year')\n",
    "plt.ylabel('Mileage')\n",
    "plt.title('Anomaly Detection Results')\n",
    "plt.show()"
   ]
  }
 ],
 "metadata": {
  "kernelspec": {
   "display_name": "base",
   "language": "python",
   "name": "python3"
  },
  "language_info": {
   "codemirror_mode": {
    "name": "ipython",
    "version": 3
   },
   "file_extension": ".py",
   "mimetype": "text/x-python",
   "name": "python",
   "nbconvert_exporter": "python",
   "pygments_lexer": "ipython3",
   "version": "3.9.12"
  },
  "orig_nbformat": 4
 },
 "nbformat": 4,
 "nbformat_minor": 2
}
